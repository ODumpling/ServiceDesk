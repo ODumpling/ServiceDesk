{
    "metadata": {
        "kernelspec": {
            "name": "SQL",
            "display_name": "SQL",
            "language": "sql"
        },
        "language_info": {
            "name": "sql",
            "version": ""
        }
    },
    "nbformat_minor": 2,
    "nbformat": 4,
    "cells": [
        {
            "cell_type": "code",
            "source": [
                "INSERT INTO Desks(\n",
                "        [Id]\n",
                "        ,[Slug]\n",
                "        ,[Name]\n",
                "        ,[Description]\n",
                "        ,[Manager]\n",
                "        ,[Created]\n",
                "        )\n",
                "      VALUES (NEWID(),'bob','bob','message to earth','me',GETDATE());"
            ],
            "metadata": {
                "azdata_cell_guid": "55ac91a3-0a64-4897-a6b4-2a30a50c88fb"
            },
            "outputs": [
                {
                    "output_type": "display_data",
                    "data": {
                        "text/html": "(1 row affected)"
                    },
                    "metadata": {}
                },
                {
                    "output_type": "display_data",
                    "data": {
                        "text/html": "Total execution time: 00:00:00.003"
                    },
                    "metadata": {}
                }
            ],
            "execution_count": 1
        },
        {
            "cell_type": "markdown",
            "source": [
                "Above code creates a New Desk in the Servicedesk Database..."
            ],
            "metadata": {
                "azdata_cell_guid": "c0861298-bc11-42db-b915-f8d22d8a5909"
            }
        }
    ]
}